{
  "cells": [
    {
      "cell_type": "markdown",
      "metadata": {
        "id": "1NCGks54kp_n",
        "colab_type": "text"
      },
      "source": [
        "# How much do you get for your savings ?"
      ]
    },
    {
      "cell_type": "markdown",
      "metadata": {
        "id": "75Xe4f7vksGZ",
        "colab_type": "text"
      },
      "source": [
        "It is said that if Christopher Columbus had set aside €1 that he had left at 2% interest per year, today his heirs would no longer need to work to live their lives. Let's try to calculate the same thing for our savings. "
      ]
    },
    {
      "cell_type": "markdown",
      "metadata": {
        "id": "v4ugjwIakv2c",
        "colab_type": "text"
      },
      "source": [
        "1. So let's create a function that will allow us to know how much money a user will have in total after a certain number of years.\n",
        "\n",
        "2. The user should be able to call the function which will then ask for :\n",
        "\n",
        "    1. The total amount he wishes to place\n",
        "    2. The number of years he wants to invest his money for\n",
        "    3. The rate of interest to which he is entitled\n",
        "    \n",
        "3. Pay attention to the errors that the user may enter.\n",
        "\n",
        "    4. If he enters a string of characters rather than a number, an error should be displayed.\n",
        "    5. If the user enters negative numbers, an error should also be output.\n",
        "    6. Finally, it is very likely that the user will write the interest rate as a percentage (e.g. 10%). Lift an error if this is the case to prevent him from putting a decimal number.\n",
        "    \n",
        "4. Finally, the program should only show one digit with a maximum of two digits after the decimal point.\n"
      ]
    },
    {
      "cell_type": "code",
      "execution_count": 1,
      "metadata": {
        "colab": {
          "base_uri": "https://localhost:8080/",
          "height": 173
        },
        "colab_type": "code",
        "id": "ovkcocqXkp2k",
        "outputId": "c6b46d9b-3503-4490-f19a-4a7e35194eea"
      },
      "outputs": [],
      "source": [
        "def savings():\n",
        "    while True:\n",
        "        try :\n",
        "            principal =float(input(\"How much money do you want to invest ?\"))\n",
        "            years = float(input(\"For how many months do you want to invest the money ?\"))\n",
        "            try : \n",
        "                rate = float(input(\"What is the rate interest rate of this project ?\"))\n",
        "            except TypeError:\n",
        "                print(\"You must enter the rate as a number, 20% would be 0.2\")\n",
        "        \n",
        "            if principal<0 or years<0 or rate<0 : \n",
        "                raise Exception()\n",
        "\n",
        "            interest = principal*(1+rate)**(years/12)  \n",
        "        except ValueError : \n",
        "            print(\"You must enter the principal as a number so the calculation can run, try again !\")\n",
        "\n",
        "        except Exception :\n",
        "            print(\"You cannot make money out of negative numbers, you can only calculate with positive numbers\")\n",
        "        else:   \n",
        "            break\n",
        "    return \"The total amount of money you will have after you deposit of {} € at a rate of {} after {} months will be {} €\".format(principal, rate, years,round(interest,2))"
      ]
    },
    {
      "cell_type": "code",
      "execution_count": null,
      "metadata": {},
      "outputs": [],
      "source": []
    },
    {
      "cell_type": "code",
      "metadata": {
        "id": "K_2poSknltX4",
        "colab_type": "code",
        "colab": {},
        "tags": []
      },
      "source": [
        "savings()"
      ],
      "execution_count": 2,
      "outputs": [
        {
          "output_type": "execute_result",
          "data": {
            "text/plain": [
              "'The total amount of money you will have after you deposit of 1000.0 € at a rate of 20.0 after 24.0 months will be 441000.0 €'"
            ]
          },
          "metadata": {},
          "execution_count": 2
        }
      ]
    },
    {
      "cell_type": "code",
      "execution_count": 15,
      "metadata": {},
      "outputs": [],
      "source": [
        "def investment():\n",
        "    try:\n",
        "        principal=float(input(\"How much do you want to invest?\"))\n",
        "        rate=float(input(\"What is your current interest rate?\"))\n",
        "        years=float(input(\"For how many years do you want to invest your money?\"))\n",
        "    except ValueError:\n",
        "        raise ValueError(\"You can only enter numbers\")\n",
        "    else :\n",
        "        if principal<0 or rate<0 or years<0:\n",
        "            raise ValueError(\"Please enter positive numbers\")\n",
        "        if rate>1:\n",
        "            raise ValueError(\"Please enter the rate as a decimal number \")\n",
        "        \n",
        "        savings_amount= principal*((rate+1)**years)\n",
        "    print(\"After {} years, at a rate of {} %, you will have {:.2f} in your bank account \".format(years,rate*100,savings_amount))\n"
      ]
    },
    {
      "cell_type": "code",
      "execution_count": 16,
      "metadata": {},
      "outputs": [
        {
          "output_type": "stream",
          "name": "stdout",
          "text": [
            "After 4.0 years, at a rate of 20.0 %, you will have 2073.60 in your bank account \n"
          ]
        }
      ],
      "source": [
        "investment()"
      ]
    },
    {
      "cell_type": "code",
      "execution_count": null,
      "metadata": {},
      "outputs": [],
      "source": []
    }
  ],
  "metadata": {
    "colab": {
      "name": "Fondamentaux Python - Mini Projets S1-2B.ipynb",
      "version": "0.3.2",
      "provenance": []
    },
    "kernelspec": {
      "name": "python3",
      "display_name": "Python 3"
    }
  },
  "nbformat": 4,
  "nbformat_minor": 0
}